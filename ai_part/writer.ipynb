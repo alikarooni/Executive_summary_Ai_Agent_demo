{
 "cells": [
  {
   "cell_type": "code",
   "execution_count": 113,
   "metadata": {},
   "outputs": [],
   "source": [
    "import docx\n",
    "from docx import Document\n",
    "from docx.shared import Inches\n",
    "from docx.oxml import OxmlElement\n",
    "from docx.oxml.ns import qn\n",
    "\n",
    "import os"
   ]
  },
  {
   "cell_type": "code",
   "execution_count": 114,
   "metadata": {},
   "outputs": [],
   "source": [
    "def add_paragraph(paragraph, destination_doc):\n",
    "    new_paragraph = destination_doc.add_paragraph()\n",
    "\n",
    "    # Copy paragraph style if it exists\n",
    "    if paragraph.style:\n",
    "        new_paragraph.style = paragraph.style\n",
    "\n",
    "    # shading = paragraph.paragraph_format.shading\n",
    "    # if shading.fill is not None:\n",
    "    #     new_paragraph.paragraph_format.shading = shading\n",
    "\n",
    "    # Copy paragraph alignment, line spacing, etc.\n",
    "    new_paragraph.alignment = paragraph.alignment\n",
    "    new_paragraph.paragraph_format.line_spacing = paragraph.paragraph_format.line_spacing\n",
    "    new_paragraph.paragraph_format.space_before = paragraph.paragraph_format.space_before\n",
    "    new_paragraph.paragraph_format.space_after = paragraph.paragraph_format.space_after\n",
    "    new_paragraph.paragraph_format.left_indent = paragraph.paragraph_format.left_indent\n",
    "    new_paragraph.paragraph_format.right_indent = paragraph.paragraph_format.right_indent\n",
    "    new_paragraph.paragraph_format.first_line_indent = paragraph.paragraph_format.first_line_indent\n",
    "    new_paragraph.paragraph_format.keep_together = paragraph.paragraph_format.keep_together\n",
    "    new_paragraph.paragraph_format.keep_with_next = paragraph.paragraph_format.keep_with_next\n",
    "    new_paragraph.paragraph_format.page_break_before = paragraph.paragraph_format.page_break_before\n",
    "    new_paragraph.paragraph_format.widow_control = paragraph.paragraph_format.widow_control\n",
    "\n",
    "    fallback_font = \"Arial\"\n",
    "\n",
    "    if(len(paragraph.runs) == 0): return\n",
    "\n",
    "    for run in paragraph.runs:\n",
    "        font_name = run.font.name\n",
    "        if not font_name:\n",
    "            # Check if the paragraph style has a font set\n",
    "            if paragraph.style.font.name:\n",
    "                font_name = paragraph.style.font.name\n",
    "            else:\n",
    "                font_name = fallback_font\n",
    "        print(f\"Font: {font_name}\")\n",
    "\n",
    "        # Add a new run to the new paragraph\n",
    "        new_run = new_paragraph.add_run(run.text)\n",
    "\n",
    "        # Copy run's style properties\n",
    "        new_run.bold = run.bold\n",
    "        new_run.italic = run.italic\n",
    "        new_run.underline = run.underline\n",
    "        new_run.strike = run.font.strike\n",
    "        new_run.subscript = run.font.subscript\n",
    "        new_run.superscript = run.font.superscript\n",
    "\n",
    "        # Font size, name, and color\n",
    "        # if run.font.size:\n",
    "        new_run.font.size = run.font.size\n",
    "        # if run.font.name:\n",
    "        new_run.font.name = run.font.name\n",
    "        # print('FONT: ', run.font.name)\n",
    "        # if run.font.color.rgb:\n",
    "        new_run.font.color.rgb = run.font.color.rgb\n",
    "\n",
    "        # Font highlighting\n",
    "        if run.font.highlight_color:\n",
    "            new_run.font.highlight_color = run.font.highlight_color\n",
    "\n",
    "        # Font shading (background color)\n",
    "        # if run.font.shading.bgColor:\n",
    "        #     new_run.font.shading.bgColor = run.font.shading.bgColor"
   ]
  },
  {
   "cell_type": "code",
   "execution_count": 119,
   "metadata": {},
   "outputs": [],
   "source": [
    "def add_table_to_doc(new_doc, source_table):\n",
    "    destination_table = new_doc.add_table(rows=0, cols=len(source_table.columns))\n",
    "\n",
    "    # Copy the style of the table (if you want to maintain the same look)\n",
    "    destination_table.style = source_table.style\n",
    "\n",
    "    # Iterate through each row in the source table\n",
    "    for row in source_table.rows:\n",
    "        # Add a new row to the destination table\n",
    "        new_row = destination_table.add_row()\n",
    "        # Iterate through each cell in the row\n",
    "        for idx, cell in enumerate(row.cells):\n",
    "            # Copy the text from the source cell to the destination cell\n",
    "            new_row.cells[idx].text = cell.text"
   ]
  },
  {
   "cell_type": "code",
   "execution_count": 120,
   "metadata": {},
   "outputs": [],
   "source": [
    "# Load the existing document\n",
    "source_doc = docx.Document('YYMMDD - Savills TEDD Report - Client (Building ) - YYYY.MM.DD v2.docx')\n",
    "new_doc = docx.Document()\n",
    "\n",
    "the_paragraph = None\n",
    "\n",
    "for element in source_doc.element.body:\n",
    "    if element.tag.endswith('tbl'):\n",
    "        # Handle table\n",
    "        table = docx.table.Table(element, source_doc)\n",
    "        add_table_to_doc(new_doc, table)\n",
    "    elif element.tag.endswith('p'):\n",
    "        pass\n",
    "        # paragraph = docx.text.paragraph.Paragraph(element, source_doc)\n",
    "        # add_paragraph(paragraph, new_doc)\n",
    "    elif element.tag.endswith('r'): \n",
    "        # print('IT IS AN IMAGE...!!!')\n",
    "         # Handling for potential runs/images\n",
    "        # This part would require more complex handling, especially for images.\n",
    "        # For images, you need to extract them and save as files, then re-insert.\n",
    "        pass\n",
    "\n",
    "# Save the new document\n",
    "new_doc.save('new_document.docx')\n"
   ]
  },
  {
   "cell_type": "code",
   "execution_count": 112,
   "metadata": {},
   "outputs": [],
   "source": [
    "the_paragraph"
   ]
  },
  {
   "cell_type": "code",
   "execution_count": 36,
   "metadata": {},
   "outputs": [
    {
     "ename": "TypeError",
     "evalue": "'Paragraph' object is not iterable",
     "output_type": "error",
     "traceback": [
      "\u001b[1;31m---------------------------------------------------------------------------\u001b[0m",
      "\u001b[1;31mTypeError\u001b[0m                                 Traceback (most recent call last)",
      "Cell \u001b[1;32mIn[36], line 1\u001b[0m\n\u001b[1;32m----> 1\u001b[0m \u001b[43mnew_doc\u001b[49m\u001b[38;5;241;43m.\u001b[39;49m\u001b[43madd_paragraph\u001b[49m\u001b[43m(\u001b[49m\u001b[43mthe_paragraph\u001b[49m\u001b[43m)\u001b[49m\n",
      "File \u001b[1;32m~\\AppData\\Local\\Packages\\PythonSoftwareFoundation.Python.3.11_qbz5n2kfra8p0\\LocalCache\\local-packages\\Python311\\site-packages\\docx\\document.py:71\u001b[0m, in \u001b[0;36mDocument.add_paragraph\u001b[1;34m(self, text, style)\u001b[0m\n\u001b[0;32m     59\u001b[0m \u001b[38;5;28;01mdef\u001b[39;00m \u001b[38;5;21madd_paragraph\u001b[39m(\n\u001b[0;32m     60\u001b[0m     \u001b[38;5;28mself\u001b[39m, text: \u001b[38;5;28mstr\u001b[39m \u001b[38;5;241m=\u001b[39m \u001b[38;5;124m\"\u001b[39m\u001b[38;5;124m\"\u001b[39m, style: \u001b[38;5;28mstr\u001b[39m \u001b[38;5;241m|\u001b[39m ParagraphStyle \u001b[38;5;241m|\u001b[39m \u001b[38;5;28;01mNone\u001b[39;00m \u001b[38;5;241m=\u001b[39m \u001b[38;5;28;01mNone\u001b[39;00m\n\u001b[0;32m     61\u001b[0m ) \u001b[38;5;241m-\u001b[39m\u001b[38;5;241m>\u001b[39m Paragraph:\n\u001b[0;32m     62\u001b[0m \u001b[38;5;250m    \u001b[39m\u001b[38;5;124;03m\"\"\"Return paragraph newly added to the end of the document.\u001b[39;00m\n\u001b[0;32m     63\u001b[0m \n\u001b[0;32m     64\u001b[0m \u001b[38;5;124;03m    The paragraph is populated with `text` and having paragraph style `style`.\u001b[39;00m\n\u001b[1;32m   (...)\u001b[0m\n\u001b[0;32m     69\u001b[0m \u001b[38;5;124;03m    break.\u001b[39;00m\n\u001b[0;32m     70\u001b[0m \u001b[38;5;124;03m    \"\"\"\u001b[39;00m\n\u001b[1;32m---> 71\u001b[0m     \u001b[38;5;28;01mreturn\u001b[39;00m \u001b[38;5;28;43mself\u001b[39;49m\u001b[38;5;241;43m.\u001b[39;49m\u001b[43m_body\u001b[49m\u001b[38;5;241;43m.\u001b[39;49m\u001b[43madd_paragraph\u001b[49m\u001b[43m(\u001b[49m\u001b[43mtext\u001b[49m\u001b[43m,\u001b[49m\u001b[43m \u001b[49m\u001b[43mstyle\u001b[49m\u001b[43m)\u001b[49m\n",
      "File \u001b[1;32m~\\AppData\\Local\\Packages\\PythonSoftwareFoundation.Python.3.11_qbz5n2kfra8p0\\LocalCache\\local-packages\\Python311\\site-packages\\docx\\blkcntnr.py:57\u001b[0m, in \u001b[0;36mBlockItemContainer.add_paragraph\u001b[1;34m(self, text, style)\u001b[0m\n\u001b[0;32m     55\u001b[0m paragraph \u001b[38;5;241m=\u001b[39m \u001b[38;5;28mself\u001b[39m\u001b[38;5;241m.\u001b[39m_add_paragraph()\n\u001b[0;32m     56\u001b[0m \u001b[38;5;28;01mif\u001b[39;00m text:\n\u001b[1;32m---> 57\u001b[0m     \u001b[43mparagraph\u001b[49m\u001b[38;5;241;43m.\u001b[39;49m\u001b[43madd_run\u001b[49m\u001b[43m(\u001b[49m\u001b[43mtext\u001b[49m\u001b[43m)\u001b[49m\n\u001b[0;32m     58\u001b[0m \u001b[38;5;28;01mif\u001b[39;00m style \u001b[38;5;129;01mis\u001b[39;00m \u001b[38;5;129;01mnot\u001b[39;00m \u001b[38;5;28;01mNone\u001b[39;00m:\n\u001b[0;32m     59\u001b[0m     paragraph\u001b[38;5;241m.\u001b[39mstyle \u001b[38;5;241m=\u001b[39m style\n",
      "File \u001b[1;32m~\\AppData\\Local\\Packages\\PythonSoftwareFoundation.Python.3.11_qbz5n2kfra8p0\\LocalCache\\local-packages\\Python311\\site-packages\\docx\\text\\paragraph.py:45\u001b[0m, in \u001b[0;36mParagraph.add_run\u001b[1;34m(self, text, style)\u001b[0m\n\u001b[0;32m     43\u001b[0m run \u001b[38;5;241m=\u001b[39m Run(r, \u001b[38;5;28mself\u001b[39m)\n\u001b[0;32m     44\u001b[0m \u001b[38;5;28;01mif\u001b[39;00m text:\n\u001b[1;32m---> 45\u001b[0m     \u001b[43mrun\u001b[49m\u001b[38;5;241;43m.\u001b[39;49m\u001b[43mtext\u001b[49m \u001b[38;5;241m=\u001b[39m text\n\u001b[0;32m     46\u001b[0m \u001b[38;5;28;01mif\u001b[39;00m style:\n\u001b[0;32m     47\u001b[0m     run\u001b[38;5;241m.\u001b[39mstyle \u001b[38;5;241m=\u001b[39m style\n",
      "File \u001b[1;32m~\\AppData\\Local\\Packages\\PythonSoftwareFoundation.Python.3.11_qbz5n2kfra8p0\\LocalCache\\local-packages\\Python311\\site-packages\\docx\\text\\run.py:217\u001b[0m, in \u001b[0;36mRun.text\u001b[1;34m(self, text)\u001b[0m\n\u001b[0;32m    215\u001b[0m \u001b[38;5;129m@text\u001b[39m\u001b[38;5;241m.\u001b[39msetter\n\u001b[0;32m    216\u001b[0m \u001b[38;5;28;01mdef\u001b[39;00m \u001b[38;5;21mtext\u001b[39m(\u001b[38;5;28mself\u001b[39m, text: \u001b[38;5;28mstr\u001b[39m):\n\u001b[1;32m--> 217\u001b[0m     \u001b[38;5;28;43mself\u001b[39;49m\u001b[38;5;241;43m.\u001b[39;49m\u001b[43m_r\u001b[49m\u001b[38;5;241;43m.\u001b[39;49m\u001b[43mtext\u001b[49m \u001b[38;5;241m=\u001b[39m text\n",
      "File \u001b[1;32m~\\AppData\\Local\\Packages\\PythonSoftwareFoundation.Python.3.11_qbz5n2kfra8p0\\LocalCache\\local-packages\\Python311\\site-packages\\docx\\oxml\\text\\run.py:130\u001b[0m, in \u001b[0;36mCT_R.text\u001b[1;34m(self, text)\u001b[0m\n\u001b[0;32m    127\u001b[0m \u001b[38;5;129m@text\u001b[39m\u001b[38;5;241m.\u001b[39msetter  \u001b[38;5;66;03m# pyright: ignore[reportIncompatibleVariableOverride]\u001b[39;00m\n\u001b[0;32m    128\u001b[0m \u001b[38;5;28;01mdef\u001b[39;00m \u001b[38;5;21mtext\u001b[39m(\u001b[38;5;28mself\u001b[39m, text: \u001b[38;5;28mstr\u001b[39m):\n\u001b[0;32m    129\u001b[0m     \u001b[38;5;28mself\u001b[39m\u001b[38;5;241m.\u001b[39mclear_content()\n\u001b[1;32m--> 130\u001b[0m     \u001b[43m_RunContentAppender\u001b[49m\u001b[38;5;241;43m.\u001b[39;49m\u001b[43mappend_to_run_from_text\u001b[49m\u001b[43m(\u001b[49m\u001b[38;5;28;43mself\u001b[39;49m\u001b[43m,\u001b[49m\u001b[43m \u001b[49m\u001b[43mtext\u001b[49m\u001b[43m)\u001b[49m\n",
      "File \u001b[1;32m~\\AppData\\Local\\Packages\\PythonSoftwareFoundation.Python.3.11_qbz5n2kfra8p0\\LocalCache\\local-packages\\Python311\\site-packages\\docx\\oxml\\text\\run.py:251\u001b[0m, in \u001b[0;36m_RunContentAppender.append_to_run_from_text\u001b[1;34m(cls, r, text)\u001b[0m\n\u001b[0;32m    249\u001b[0m \u001b[38;5;250m\u001b[39m\u001b[38;5;124;03m\"\"\"Append inner-content elements for `text` to `r` element.\"\"\"\u001b[39;00m\n\u001b[0;32m    250\u001b[0m appender \u001b[38;5;241m=\u001b[39m \u001b[38;5;28mcls\u001b[39m(r)\n\u001b[1;32m--> 251\u001b[0m \u001b[43mappender\u001b[49m\u001b[38;5;241;43m.\u001b[39;49m\u001b[43madd_text\u001b[49m\u001b[43m(\u001b[49m\u001b[43mtext\u001b[49m\u001b[43m)\u001b[49m\n",
      "File \u001b[1;32m~\\AppData\\Local\\Packages\\PythonSoftwareFoundation.Python.3.11_qbz5n2kfra8p0\\LocalCache\\local-packages\\Python311\\site-packages\\docx\\oxml\\text\\run.py:255\u001b[0m, in \u001b[0;36m_RunContentAppender.add_text\u001b[1;34m(self, text)\u001b[0m\n\u001b[0;32m    253\u001b[0m \u001b[38;5;28;01mdef\u001b[39;00m \u001b[38;5;21madd_text\u001b[39m(\u001b[38;5;28mself\u001b[39m, text: \u001b[38;5;28mstr\u001b[39m):\n\u001b[0;32m    254\u001b[0m \u001b[38;5;250m    \u001b[39m\u001b[38;5;124;03m\"\"\"Append inner-content elements for `text` to the `w:r` element.\"\"\"\u001b[39;00m\n\u001b[1;32m--> 255\u001b[0m     \u001b[38;5;28;01mfor\u001b[39;00m char \u001b[38;5;129;01min\u001b[39;00m text:\n\u001b[0;32m    256\u001b[0m         \u001b[38;5;28mself\u001b[39m\u001b[38;5;241m.\u001b[39madd_char(char)\n\u001b[0;32m    257\u001b[0m     \u001b[38;5;28mself\u001b[39m\u001b[38;5;241m.\u001b[39mflush()\n",
      "\u001b[1;31mTypeError\u001b[0m: 'Paragraph' object is not iterable"
     ]
    }
   ],
   "source": [
    "new_doc.add_paragraph(the_paragraph)"
   ]
  }
 ],
 "metadata": {
  "kernelspec": {
   "display_name": "Python 3",
   "language": "python",
   "name": "python3"
  },
  "language_info": {
   "codemirror_mode": {
    "name": "ipython",
    "version": 3
   },
   "file_extension": ".py",
   "mimetype": "text/x-python",
   "name": "python",
   "nbconvert_exporter": "python",
   "pygments_lexer": "ipython3",
   "version": "3.11.8"
  }
 },
 "nbformat": 4,
 "nbformat_minor": 2
}
